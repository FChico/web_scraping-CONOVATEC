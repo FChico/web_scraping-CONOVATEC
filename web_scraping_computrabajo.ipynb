{
 "cells": [
  {
   "cell_type": "code",
   "execution_count": 1,
   "id": "7b754600",
   "metadata": {},
   "outputs": [
    {
     "name": "stdout",
     "output_type": "stream",
     "text": [
      "Requirement already satisfied: openpyxl in c:\\python310\\lib\\site-packages (3.1.2)\n",
      "Requirement already satisfied: et-xmlfile in c:\\python310\\lib\\site-packages (from openpyxl) (1.1.0)\n"
     ]
    },
    {
     "name": "stderr",
     "output_type": "stream",
     "text": [
      "WARNING: Ignoring invalid distribution - (c:\\python310\\lib\\site-packages)\n",
      "WARNING: Ignoring invalid distribution -p (c:\\python310\\lib\\site-packages)\n",
      "WARNING: Ignoring invalid distribution -ip (c:\\python310\\lib\\site-packages)\n",
      "WARNING: Ignoring invalid distribution -p (c:\\python310\\lib\\site-packages)\n",
      "WARNING: Ignoring invalid distribution - (c:\\python310\\lib\\site-packages)\n",
      "WARNING: Ignoring invalid distribution -p (c:\\python310\\lib\\site-packages)\n",
      "WARNING: Ignoring invalid distribution -ip (c:\\python310\\lib\\site-packages)\n",
      "WARNING: Ignoring invalid distribution -p (c:\\python310\\lib\\site-packages)\n"
     ]
    }
   ],
   "source": [
    "!pip install openpyxl"
   ]
  },
  {
   "cell_type": "code",
   "execution_count": 2,
   "id": "2fb54d8a",
   "metadata": {},
   "outputs": [],
   "source": [
    "import os\n",
    "import requests\n",
    "import numpy as np\n",
    "from bs4 import BeautifulSoup\n",
    "from datetime import datetime\n",
    "import pandas as pd\n",
    "from selenium import webdriver\n",
    "import os\n",
    "from tqdm import tqdm\n",
    "from random import random\n",
    "import time\n",
    "from selenium.webdriver.common.by import By\n",
    "from selenium.webdriver.support.ui import WebDriverWait\n",
    "from selenium.webdriver.support import expected_conditions as EC\n",
    "import random\n",
    "from undetected_chromedriver import Chrome, ChromeOptions\n",
    "from selenium.common.exceptions import NoSuchElementException\n",
    "from selenium.common.exceptions import TimeoutException"
   ]
  },
  {
   "cell_type": "code",
   "execution_count": 3,
   "id": "457db8c5",
   "metadata": {},
   "outputs": [],
   "source": [
    "url = 'https://pe.computrabajo.com'"
   ]
  },
  {
   "cell_type": "code",
   "execution_count": 4,
   "id": "22c39b6d",
   "metadata": {},
   "outputs": [],
   "source": [
    "works = {'DS':'Data science',\n",
    "         'DA':'Data analyst',\n",
    "         'DE':'Data engineer',\n",
    "         'BI':'Business Intelligence'}"
   ]
  },
  {
   "cell_type": "code",
   "execution_count": 5,
   "id": "e2442a29",
   "metadata": {},
   "outputs": [],
   "source": [
    "def web_scrap(url,b, lugares):\n",
    "    if b=='dptos':\n",
    "        options = ChromeOptions()\n",
    "        options.add_argument(\"--no-sandbox\")\n",
    "        options.add_argument(\"--disable-dev-shm-usage\")\n",
    "        driver = Chrome(options=options)\n",
    "        driver.get(url)\n",
    "        lgr = []\n",
    "        lgr_2 = []\n",
    "        text_emp = 'Empleos en '\n",
    "        while True:\n",
    "            # Esperar hasta que aparezca al menos un elemento 'list'\n",
    "            WebDriverWait(driver, 30).until(EC.presence_of_element_located((By.CLASS_NAME, \"cI\")))   \n",
    "            # Encontrar todos los elementos 'list'\n",
    "            lists = driver.find_elements(By.CLASS_NAME, \"cI\")\n",
    "            # Recorrer cada 'list' y extraer la información requerida\n",
    "            for list_element in lists:\n",
    "                lugares = list_element.find_element(By.TAG_NAME, \"a\").text\n",
    "                if len(lugares)==0:\n",
    "                    break\n",
    "                lugares = lugares[len(text_emp)::]\n",
    "                lgr.append(lugares)\n",
    "                a = ''\n",
    "                if ' ' in lugares: \n",
    "                    a = lugares.split(' ')\n",
    "                    lugares = '-'.join(a)\n",
    "                lgr_2.append(lugares.lower())\n",
    "            break\n",
    "        # Cerrar el navegador\n",
    "        driver.quit()\n",
    "        return lgr, lgr_2\n",
    "    \n",
    "    elif b=='empleos':\n",
    "        for i in range(len(works)): \n",
    "            if ' ' in list(works.values())[i]: \n",
    "                a = works[list(works.keys())[i]].split(' ')\n",
    "                works[list(works.keys())[i]] = '-'.join(a)\n",
    "            works[list(works.keys())[i]] = works[list(works.keys())[i]].lower()\n",
    "            \n",
    "        wp = '/trabajo-de-'\n",
    "        # Listas para almacenar la información\n",
    "        info = {}\n",
    "        for i in range(len(lugares)):\n",
    "            genl = []\n",
    "            for j in range(len(works)):\n",
    "                options = ChromeOptions()\n",
    "                options.add_argument(\"--no-sandbox\")\n",
    "                options.add_argument(\"--disable-dev-shm-usage\")\n",
    "                driver = Chrome(options=options)\n",
    "                driver.get(url+wp+works[list(works.keys())[j]]+'-en-'+lugares[i])\n",
    "            \n",
    "                job = []\n",
    "                companies = []\n",
    "                urgency = []\n",
    "                destacado = []\n",
    "                modalidad = []\n",
    "                dates = []\n",
    "\n",
    "                while True:\n",
    "                    # Esperar hasta que aparezca al menos un elemento 'list'\n",
    "                    try:\n",
    "                        WebDriverWait(driver, 30).until(EC.presence_of_element_located((By.CLASS_NAME, \"box_offer\")))\n",
    "                    except TimeoutException:\n",
    "                        break\n",
    "                    # Encontrar todos los elementos 'list'\n",
    "                    lists = driver.find_elements(By.CLASS_NAME, \"box_offer\")\n",
    "                    # Recorrer cada 'list' y extraer la información requerida\n",
    "                    for list_element in lists:\n",
    "                        jobs = list_element.find_element(By.CLASS_NAME, \"js-o-link\").text\n",
    "                        company = list_element.find_element(By.CSS_SELECTOR, 'p.fc_base').text\n",
    "                        try: \n",
    "                            urgencia = list_element.find_element(By.CSS_SELECTOR, \"span.fc_urgent\").text\n",
    "                        except NoSuchElementException:\n",
    "                            urgencia = ''\n",
    "                        try: \n",
    "                            modo = list_element.find_element(By.CSS_SELECTOR, \"span.tag.base.mb10\").text\n",
    "                        except NoSuchElementException:\n",
    "                            modo = ''\n",
    "                        try: \n",
    "                            destacados = list_element.find_element(By.CLASS_NAME, \"fc_dest\").text\n",
    "                        except NoSuchElementException:\n",
    "                            destacados = ''\n",
    "                        #location = list_element.find_element(By.CLASS_NAME, \"companyLocation\").text\n",
    "                        date = list_element.find_element(By.CLASS_NAME, \"fc_aux\").text\n",
    "    \n",
    "                        # Agregar la información a las listas correspondientes\n",
    "                        job.append(jobs)\n",
    "                        companies.append(company)\n",
    "                        modalidad.append(modo)\n",
    "                        urgency.append(urgencia)\n",
    "                        destacado.append(destacados)\n",
    "                        #locations.append(location)\n",
    "                        dates.append(date)\n",
    "    \n",
    "                    # Verificar si existe el botón de siguiente página\n",
    "                    try:\n",
    "                        next_button = driver.find_element(By.XPATH, '//span[@title=\"Siguiente\"]')\n",
    "                        if 'disabled' in next_button.get_attribute(\"class\"):\n",
    "                            break\n",
    "                    except NoSuchElementException:\n",
    "                        break\n",
    "        \n",
    "        \n",
    "                    time.sleep(random.uniform(3, 6))\n",
    "    \n",
    "                    # Hacer clic en el botón de siguiente página\n",
    "                    driver.execute_script(\"arguments[0].click();\", next_button)\n",
    "                    WebDriverWait(driver, 30).until(EC.staleness_of(lists[0]))\n",
    "\n",
    "                # Cerrar el navegador\n",
    "                driver.quit()\n",
    "                \n",
    "                # Crear un dataframe con la información recolectada\n",
    "                data_ds = {\n",
    "                    'Company': companies,\n",
    "                    'Job': job,\n",
    "                    'Modalidad': modalidad,\n",
    "                    'Urgency': urgency,\n",
    "                    'Destacado': destacado,\n",
    "                    'Date': dates,\n",
    "                    }\n",
    "\n",
    "                df_ds = pd.DataFrame(data_ds)\n",
    "                campos_revisión = ['Company', 'Job', 'Date']\n",
    "                df_ds1 = df_ds.drop_duplicates(subset=campos_revisión).reset_index(drop=True)\n",
    "                df_ds1.index = df_ds1.index + 1\n",
    "\n",
    "                genl.append(df_ds1)\n",
    "                \n",
    "            info[i] = genl\n",
    "        return info"
   ]
  },
  {
   "cell_type": "code",
   "execution_count": 6,
   "id": "60f75bad",
   "metadata": {},
   "outputs": [],
   "source": [
    "departamentos = web_scrap(url, 'dptos', '')"
   ]
  },
  {
   "cell_type": "code",
   "execution_count": 7,
   "id": "f86076d5",
   "metadata": {},
   "outputs": [],
   "source": [
    "empleos = web_scrap(url, 'empleos', departamentos[1])"
   ]
  },
  {
   "cell_type": "code",
   "execution_count": 16,
   "id": "796be369",
   "metadata": {},
   "outputs": [],
   "source": [
    "regiones = {}\n",
    "for i in range(len(departamentos[0])):\n",
    "    regiones[departamentos[0][i]]=pd.concat(empleos[i],axis=0,keys=list(works.keys()))"
   ]
  },
  {
   "cell_type": "code",
   "execution_count": 18,
   "id": "59ea1940",
   "metadata": {},
   "outputs": [],
   "source": [
    "fecha = datetime.today().strftime('%Y-%m-%d')\n",
    "\n",
    "path = '/'.join(os.getcwd().split('\\\\'))\n",
    "\n",
    "for i in range(len(departamentos[0])):\n",
    "    regiones[departamentos[0][i]].to_excel('%s/%s-%s.xlsx'%(path,fecha,departamentos[0][i]), index=True)"
   ]
  }
 ],
 "metadata": {
  "kernelspec": {
   "display_name": "Python 3 (ipykernel)",
   "language": "python",
   "name": "python3"
  },
  "language_info": {
   "codemirror_mode": {
    "name": "ipython",
    "version": 3
   },
   "file_extension": ".py",
   "mimetype": "text/x-python",
   "name": "python",
   "nbconvert_exporter": "python",
   "pygments_lexer": "ipython3",
   "version": "3.10.0"
  }
 },
 "nbformat": 4,
 "nbformat_minor": 5
}
